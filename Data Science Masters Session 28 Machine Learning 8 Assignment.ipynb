{
 "cells": [
  {
   "cell_type": "code",
   "execution_count": 9,
   "metadata": {},
   "outputs": [],
   "source": [
    "## Data Science Masters Session 28 Machine Learning 8 Assignment Sravanthi\n",
    "from bs4 import BeautifulSoup\n",
    "from collections import Counter\n",
    "from string import punctuation\n",
    "import urllib.request\n",
    "import nltk"
   ]
  },
  {
   "cell_type": "code",
   "execution_count": 10,
   "metadata": {},
   "outputs": [],
   "source": [
    "response = urllib.request.urlopen('http://php.net/')\n",
    "html = response.read()\n",
    "soup = BeautifulSoup(html,\"html5lib\")"
   ]
  },
  {
   "cell_type": "code",
   "execution_count": 12,
   "metadata": {},
   "outputs": [
    {
     "name": "stdout",
     "output_type": "stream",
     "text": [
      "[('the', 243), ('php', 118), ('of', 86), ('for', 85), ('in', 75), ('release', 75), ('can', 62), ('be', 57), ('and', 56), ('is', 52), ('found', 52), ('this', 51), ('on', 49), ('a', 35), ('you', 33), ('file', 32), ('to', 31), ('please', 31), ('version', 30), ('source', 28), ('downloads', 28), ('upgrading', 28), ('development', 26), ('list', 26), ('changes', 25), ('or', 23), ('team', 21), ('visit', 21), ('page', 21), ('windows', 20), ('binaries', 20), ('also', 20), ('bug', 19), ('read', 19), ('are', 16), ('7.3.0', 15), ('test', 15), ('news', 15), ('wiki', 14), ('download', 14), ('carefully', 14), ('report', 14), ('any', 14), ('system', 14), ('do', 14), ('not', 14), ('use', 14), ('it', 14), ('production', 14), ('information', 14), ('new', 14), ('features', 14), ('other', 14), ('complete', 14), ('notes', 14), ('these', 14), ('files', 14), ('archive', 14), ('planned', 14), ('thank', 14), ('helping', 14), ('us', 14), ('make', 14), ('better', 14), ('7.2.0', 14), ('next', 13), ('sources', 13), ('windows.php.net/qa', 13), ('preview', 13), ('', 13), ('more', 13), ('announces', 12), ('immediate', 12), ('availability', 12), ('all', 12), ('users', 12), ('encouraged', 12), ('our', 12), ('alpha', 11), ('candidate', 11), ('glad', 9), ('announce', 9), ('rough', 9), ('outline', 9), ('7.3', 9), ('cycle', 9), ('specified', 9), ('issues', 9), ('reporting', 9), ('would', 9), ('signatures', 9), ('manifest', 9), ('qa', 9), ('site', 9), ('3', 9), ('beta', 8), ('security', 7), ('upgrade', 7), ('windows.php.net/download', 7), ('recorded', 7), ('changelog', 7), ('1', 6), ('2', 5), ('bugs', 5), ('incompatibilities', 5), ('tracking', 5), ('will', 5), ('full', 5), ('releases', 5), ('internal', 4), ('listed', 4), ('upgrading.internals', 4), ('august', 4), ('first', 4), ('at', 4), ('october', 3), ('one', 3), ('has', 3), ('been', 3), ('fixed', 3), ('september', 3), ('fixes', 3), ('7.2', 3), ('bugfix', 3), ('third', 3), ('july', 3), ('released', 3), ('popular', 2), ('pre-release', 2), ('7.3.0rc2', 2), ('rc3', 2), ('5.6.38', 2), ('7.1.22', 2), ('7.1', 2), ('7.0.32', 2), ('7.3.0rc1', 2), ('7.2.10', 2), ('which', 2), ('contains', 2), ('several', 2), ('7.3.0beta3', 2), ('7.1.21', 2), ('7.2.9', 2), ('7.3.0beta2', 2), ('7.3.0beta1', 2), ('fourth', 2), ('7.3.0alpha4', 2), ('second', 2), ('7.2.2', 2), ('announced', 2), ('general-purpose', 1), ('scripting', 1), ('language', 1), ('that', 1), ('especially', 1), ('suited', 1), ('web', 1), ('fast', 1), ('flexible', 1), ('pragmatic', 1), ('powers', 1), ('everything', 1), ('from', 1), ('your', 1), ('blog', 1), ('most', 1), ('websites', 1), ('world', 1), ('11th', 1), ('5.6', 1), ('7.0', 1), ('rc2', 1), ('27th', 1), ('minor', 1), ('seventh', 1), ('rc1', 1), ('13th', 1), ('sixth', 1), ('30th', 1), ('fifth', 1), ('16th', 1), ('2nd', 1), ('19th', 1), ('5', 1), ('starts', 1), ('an', 1), ('early', 1), ('june', 1), ('21', 1), ('with', 1), ('included', 1), ('rc4', 1), ('4', 1), ('26th', 1), ('12th', 1), ('14th', 1), ('final', 1), ('31th', 1), ('improvements', 1), ('relative', 1), ('20th', 1), ('older', 1), ('entries', 1), ('user', 1), ('group', 1), ('events', 1), ('special', 1), ('thanks', 1), ('social', 1), ('media', 1)]\n"
     ]
    }
   ],
   "source": [
    "text = (''.join(s.findAll(text=True))for s in soup.findAll('p'))\n",
    "\n",
    "c = Counter((x.rstrip(punctuation).lower() for y in text for x in y.split()))\n",
    "# Print most common words\n",
    "print (c.most_common())"
   ]
  },
  {
   "cell_type": "code",
   "execution_count": null,
   "metadata": {},
   "outputs": [],
   "source": []
  }
 ],
 "metadata": {
  "kernelspec": {
   "display_name": "Python 3",
   "language": "python",
   "name": "python3"
  },
  "language_info": {
   "codemirror_mode": {
    "name": "ipython",
    "version": 3
   },
   "file_extension": ".py",
   "mimetype": "text/x-python",
   "name": "python",
   "nbconvert_exporter": "python",
   "pygments_lexer": "ipython3",
   "version": "3.6.5"
  }
 },
 "nbformat": 4,
 "nbformat_minor": 2
}
